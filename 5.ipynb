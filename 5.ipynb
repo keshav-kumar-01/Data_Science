{
 "cells": [
  {
   "cell_type": "code",
   "execution_count": 1,
   "id": "94cc1fc8",
   "metadata": {},
   "outputs": [
    {
     "name": "stdout",
     "output_type": "stream",
     "text": [
      "77.0\n",
      "25.0\n"
     ]
    }
   ],
   "source": [
    "##temperature convertor\n",
    "def TemperatureConvertor(temp,unit):\n",
    "    if unit=='C':\n",
    "        return ((temp*9/5)+32)\n",
    "    elif unit=='F':\n",
    "        return ((temp-32)*5/9)\n",
    "    else:\n",
    "        return None\n",
    "\n",
    "print(TemperatureConvertor(25,'C'))\n",
    "print(TemperatureConvertor(77,'F'))"
   ]
  },
  {
   "cell_type": "code",
   "execution_count": 4,
   "id": "323707d8",
   "metadata": {},
   "outputs": [
    {
     "name": "stdout",
     "output_type": "stream",
     "text": [
      "True\n"
     ]
    }
   ],
   "source": [
    "## Password checker\n",
    "def passwordchecker (password):\n",
    "    if len(password) < 8:\n",
    "        return False\n",
    "    if not any(char.isdigit() for char in password):\n",
    "        return False\n",
    "    if not any(char.islower() for char in password):\n",
    "        return False\n",
    "    if not any(char.isupper() for char in password):\n",
    "        return False\n",
    "    if not any(char in '!@#$%^&*()_+' for char in password):\n",
    "        return False\n",
    "    return True\n",
    "\n",
    "print(passwordchecker('Kkk9998urd#101'))"
   ]
  },
  {
   "cell_type": "code",
   "execution_count": 9,
   "id": "820d4080",
   "metadata": {},
   "outputs": [
    {
     "name": "stdout",
     "output_type": "stream",
     "text": [
      "True\n",
      "False\n"
     ]
    }
   ],
   "source": [
    "## Palindrome checker\n",
    "def PalindromeChecker(string):\n",
    "    string = string.lower().replace(\" \",\"\")\n",
    "    return string==string[::-1]\n",
    "\n",
    "print(PalindromeChecker(\"A man a plan a canal Panama\"))\n",
    "print(PalindromeChecker(\"Hello World\"))"
   ]
  },
  {
   "cell_type": "code",
   "execution_count": 17,
   "id": "fea8ce3d",
   "metadata": {},
   "outputs": [
    {
     "name": "stdout",
     "output_type": "stream",
     "text": [
      "120\n"
     ]
    }
   ],
   "source": [
    "### facotorial recursion\n",
    "def factorial(n):\n",
    "    if n == 0 or n == 1:\n",
    "        return 1\n",
    "    else:\n",
    "        return n*factorial(n-1)\n",
    "print(factorial(5))"
   ]
  },
  {
   "cell_type": "code",
   "execution_count": null,
   "id": "6a20e372",
   "metadata": {},
   "outputs": [],
   "source": [
    "### file reading and count the frequency of each word\n",
    "def word_frequency(file_path):\n",
    "    word_count={}\n",
    "    with open(file_path,'r')\n",
    "    for line in file:\n",
    "        words = line.split()\n",
    "        for word in words:\n",
    "            word = word.lower().strip('.,!?;:\"()[]{}')\n",
    "            word_count[word]=word_count.get(word,0)+1\n",
    "    return word_count\n",
    "            \n"
   ]
  },
  {
   "cell_type": "code",
   "execution_count": 19,
   "id": "b77954ed",
   "metadata": {},
   "outputs": [],
   "source": [
    "##valid email address\n",
    "import re\n",
    "def is_valid_email(email):\n",
    "    pattern = r'^[a-zA-Z0-9_.+-]+@[a-zA-Z0-9_.+-]+\\.[a-zA-Z0-9_.+-]+$'\n",
    "    if re.match(pattern, email):\n",
    "        return True\n",
    "    else:\n",
    "        return False"
   ]
  },
  {
   "cell_type": "code",
   "execution_count": null,
   "id": "3f501255",
   "metadata": {},
   "outputs": [],
   "source": [
    "## lambda function\n",
    "addition = lambda a,b:a+b"
   ]
  },
  {
   "cell_type": "code",
   "execution_count": null,
   "id": "605103f0",
   "metadata": {},
   "outputs": [],
   "source": [
    "def even(num):\n",
    "    if num%2==0:\n",
    "        return True\n",
    "    else:\n",
    "        return False\n",
    "    \n",
    "even1= lambda num:num%2==0"
   ]
  },
  {
   "cell_type": "code",
   "execution_count": 2,
   "id": "fe823806",
   "metadata": {},
   "outputs": [
    {
     "data": {
      "text/plain": [
       "[1, 4, 9, 16, 25]"
      ]
     },
     "execution_count": 2,
     "metadata": {},
     "output_type": "execute_result"
    }
   ],
   "source": [
    "##map---- applies a function to all items in a list\n",
    "numbers =[1,2,3,4,5]\n",
    "list(map(lambda a:a**2,numbers))\n"
   ]
  },
  {
   "cell_type": "code",
   "execution_count": 4,
   "id": "ed162bb5",
   "metadata": {},
   "outputs": [],
   "source": [
    "### MAP Function\n",
    "def square(x):\n",
    "    return x**2"
   ]
  },
  {
   "cell_type": "code",
   "execution_count": 5,
   "id": "c77f4cc1",
   "metadata": {},
   "outputs": [
    {
     "data": {
      "text/plain": [
       "[1, 4, 9, 16, 25, 36, 49, 64, 81, 100]"
      ]
     },
     "execution_count": 5,
     "metadata": {},
     "output_type": "execute_result"
    }
   ],
   "source": [
    "numbers = [1,2,3,4,5,6,7,8,9,10]\n",
    "map(square,numbers)\n",
    "list(map(square,numbers))"
   ]
  },
  {
   "cell_type": "code",
   "execution_count": 6,
   "id": "409a9acb",
   "metadata": {},
   "outputs": [
    {
     "name": "stdout",
     "output_type": "stream",
     "text": [
      "[7, 9, 11, 13, 15]\n"
     ]
    }
   ],
   "source": [
    "### map multiple iterables \n",
    "numbers1 = [1,2,3,4,5]\n",
    "numbers2 = [6,7,8,9,10] \n",
    "added_numbers=list(map(lambda x,y:x+y,numbers1,numbers2))\n",
    "print(added_numbers)"
   ]
  },
  {
   "cell_type": "code",
   "execution_count": 4,
   "id": "8b33757f",
   "metadata": {},
   "outputs": [
    {
     "name": "stdout",
     "output_type": "stream",
     "text": [
      "[1, 2, 3, 4, 5]\n"
     ]
    }
   ],
   "source": [
    "string_num=['1','2','3','4','5']\n",
    "int_nums=list(map(int,string_num))\n",
    "print(int_nums)"
   ]
  },
  {
   "cell_type": "code",
   "execution_count": 6,
   "id": "c7170726",
   "metadata": {},
   "outputs": [
    {
     "data": {
      "text/plain": [
       "[2, 4, 6, 8, 10]"
      ]
     },
     "execution_count": 6,
     "metadata": {},
     "output_type": "execute_result"
    }
   ],
   "source": [
    "### Filter Function\n",
    "lst = [1,2,3,4,5,6,7,8,9,10]\n",
    "list(filter(lambda a:a%2==0,lst))\n"
   ]
  },
  {
   "cell_type": "code",
   "execution_count": 9,
   "id": "f2334432",
   "metadata": {},
   "outputs": [
    {
     "data": {
      "text/plain": [
       "[{'name': 'Keshav', 'age': 20}]"
      ]
     },
     "execution_count": 9,
     "metadata": {},
     "output_type": "execute_result"
    }
   ],
   "source": [
    "people=[\n",
    "    {\n",
    "        'name':'Keshav',\n",
    "        'age':20,\n",
    "    },\n",
    "    {\n",
    "        'name':'Anchal',\n",
    "        'age':19,\n",
    "    }\n",
    "]\n",
    "list(filter(lambda person:person['age']>19,people))"
   ]
  }
 ],
 "metadata": {
  "kernelspec": {
   "display_name": ".venv",
   "language": "python",
   "name": "python3"
  },
  "language_info": {
   "codemirror_mode": {
    "name": "ipython",
    "version": 3
   },
   "file_extension": ".py",
   "mimetype": "text/x-python",
   "name": "python",
   "nbconvert_exporter": "python",
   "pygments_lexer": "ipython3",
   "version": "3.12.2"
  }
 },
 "nbformat": 4,
 "nbformat_minor": 5
}
