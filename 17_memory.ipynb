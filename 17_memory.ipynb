{
 "cells": [
  {
   "cell_type": "code",
   "execution_count": 1,
   "id": "ccfe51a5",
   "metadata": {},
   "outputs": [],
   "source": [
    "#Python memory management \n",
    "# memory management in python involves a combination of automatic garbage collection refrence counting and various\n",
    "# internal optimizations to efficiently manage memory allocation and deallocation Understanding these mechanism can help \n",
    "# developers write more efficient and roboust applications \n"
   ]
  },
  {
   "cell_type": "code",
   "execution_count": 2,
   "id": "1dc59f81",
   "metadata": {},
   "outputs": [],
   "source": [
    "## refrence counting \n",
    "# refrence counting is a primary method python uses to manage memory , each object in python maintain a count of refrencs\n",
    "# pointing to it , when the refrence count drops to zero the memory occupied by the obeject is deallocated\n"
   ]
  },
  {
   "cell_type": "code",
   "execution_count": null,
   "id": "4a1d1cf9",
   "metadata": {},
   "outputs": [
    {
     "name": "stdout",
     "output_type": "stream",
     "text": [
      "2\n"
     ]
    }
   ],
   "source": [
    "import sys\n",
    "\n",
    "a = []\n",
    "# 2 -> one refrence from 'a' and one from getrefrencecount()\n",
    "print(sys.getrefcount(a))"
   ]
  },
  {
   "cell_type": "code",
   "execution_count": 5,
   "id": "749097f5",
   "metadata": {},
   "outputs": [
    {
     "name": "stdout",
     "output_type": "stream",
     "text": [
      "3\n"
     ]
    }
   ],
   "source": [
    "b=a\n",
    "print(sys.getrefcount(a))"
   ]
  },
  {
   "cell_type": "code",
   "execution_count": 6,
   "id": "6de01341",
   "metadata": {},
   "outputs": [
    {
     "name": "stdout",
     "output_type": "stream",
     "text": [
      "2\n"
     ]
    }
   ],
   "source": [
    "del b\n",
    "print(sys.getrefcount(a))"
   ]
  },
  {
   "cell_type": "code",
   "execution_count": 7,
   "id": "0d245866",
   "metadata": {},
   "outputs": [],
   "source": [
    "## garbage collection \n",
    "# python include a cyclic garbage collector to handle refrences cycles , refrence cycle occur when objects refrence each \n",
    "# other preventing their refrences counts from reaching zero "
   ]
  },
  {
   "cell_type": "code",
   "execution_count": 10,
   "id": "31da2323",
   "metadata": {},
   "outputs": [],
   "source": [
    "import gc\n",
    "# enable garbage collection \n",
    "gc.enable()\n"
   ]
  },
  {
   "cell_type": "code",
   "execution_count": 9,
   "id": "ccf1a016",
   "metadata": {},
   "outputs": [],
   "source": [
    "# disable \n",
    "gc.disable()"
   ]
  },
  {
   "cell_type": "code",
   "execution_count": 11,
   "id": "dc8080af",
   "metadata": {},
   "outputs": [
    {
     "data": {
      "text/plain": [
       "376"
      ]
     },
     "execution_count": 11,
     "metadata": {},
     "output_type": "execute_result"
    }
   ],
   "source": [
    "gc.collect()"
   ]
  },
  {
   "cell_type": "code",
   "execution_count": 12,
   "id": "e94b8344",
   "metadata": {},
   "outputs": [
    {
     "name": "stdout",
     "output_type": "stream",
     "text": [
      "[{'collections': 189, 'collected': 1626, 'uncollectable': 0}, {'collections': 17, 'collected': 1007, 'uncollectable': 0}, {'collections': 2, 'collected': 376, 'uncollectable': 0}]\n"
     ]
    }
   ],
   "source": [
    "## get garbage collection stats\n",
    "print(gc.get_stats())"
   ]
  },
  {
   "cell_type": "code",
   "execution_count": 13,
   "id": "ed566b10",
   "metadata": {},
   "outputs": [
    {
     "name": "stdout",
     "output_type": "stream",
     "text": [
      "[]\n"
     ]
    }
   ],
   "source": [
    "## get unreachable objects\n",
    "print(gc.garbage)"
   ]
  },
  {
   "cell_type": "code",
   "execution_count": 14,
   "id": "6a7467c2",
   "metadata": {},
   "outputs": [],
   "source": [
    "### memory management best practices\n",
    "# use local variables : local variables have a shorter lifespan and are freed sooner than global variables\n",
    "# avoid circular refrences : circular refrences can lead to memory leaks if not porperly managed\n",
    "# use generators : generators produce items one at a time and only keep one item in memory at a time making them memory efficient\n",
    "# explicitly delete objects : use del statement to delete variables and objects explicitly \n",
    "# Profile memory usage : use memory profiling tools like tracemalloc and memory_profiler to identify memory leaks and optimize memory usage \n"
   ]
  },
  {
   "cell_type": "code",
   "execution_count": 15,
   "id": "1dcb12b2",
   "metadata": {},
   "outputs": [
    {
     "name": "stdout",
     "output_type": "stream",
     "text": [
      "object name is obj1\n",
      "object name is obj2\n",
      "objectobj1 deleted\n",
      "objectobj2 deleted\n"
     ]
    },
    {
     "data": {
      "text/plain": [
       "16"
      ]
     },
     "execution_count": 15,
     "metadata": {},
     "output_type": "execute_result"
    }
   ],
   "source": [
    "import gc\n",
    "class myobj:\n",
    "    def __init__(self,name):\n",
    "        self.name = name\n",
    "        print(f\"object name is {self.name}\")\n",
    "    \n",
    "    def __del__(self):\n",
    "        print(f\"object{self.name} deleted\")\n",
    "\n",
    "#create circular refrence \n",
    "obj1=myobj(\"obj1\")\n",
    "obj2=myobj(\"obj2\")\n",
    "obj1.ref=obj2\n",
    "obj2.ref=obj1\n",
    "del obj1\n",
    "del obj2\n",
    "## manually tigger the garbage collection\n",
    "gc.collect()\n"
   ]
  },
  {
   "cell_type": "code",
   "execution_count": 16,
   "id": "107d2d06",
   "metadata": {},
   "outputs": [
    {
     "name": "stdout",
     "output_type": "stream",
     "text": [
      "0\n",
      "1\n",
      "2\n",
      "3\n",
      "4\n",
      "5\n",
      "6\n",
      "7\n",
      "8\n",
      "9\n",
      "10\n",
      "11\n"
     ]
    }
   ],
   "source": [
    "## generators for memory  effieceny -> it allows to make only one item at a time and make it in one thing in memory at a time \n",
    "def generate_numebrs(number):\n",
    "    for i in range(number):\n",
    "        yield i \n",
    "\n",
    "for numers in generate_numebrs(1000000):\n",
    "    print(numers)\n",
    "    if numers>10:\n",
    "        break\n",
    "\n"
   ]
  },
  {
   "cell_type": "code",
   "execution_count": 25,
   "id": "6b8e1440",
   "metadata": {},
   "outputs": [],
   "source": [
    "### profileing memory usage with tracemalloc\n",
    "import tracemalloc\n",
    "def create_list():\n",
    "    return [i for i in range(1000)]\n",
    "def main():\n",
    "    tracemalloc.start()\n",
    "    create_list()\n",
    "    snapshot= tracemalloc.take_snapshot()\n",
    "    top_stats = snapshot.statistics('lineno')\n",
    "\n",
    "    print(\"[Top 10 ]\")\n",
    "    for stat in top_stats[:10]:\n",
    "        print(stat)\n",
    "    \n",
    "    tracemalloc.stop()\n"
   ]
  },
  {
   "cell_type": "code",
   "execution_count": 26,
   "id": "3f956271",
   "metadata": {},
   "outputs": [
    {
     "name": "stdout",
     "output_type": "stream",
     "text": [
      "[Top 10 ]\n"
     ]
    }
   ],
   "source": [
    "main()"
   ]
  },
  {
   "cell_type": "code",
   "execution_count": null,
   "id": "701bb432",
   "metadata": {},
   "outputs": [],
   "source": []
  },
  {
   "cell_type": "code",
   "execution_count": null,
   "id": "6c03be62",
   "metadata": {},
   "outputs": [],
   "source": []
  },
  {
   "cell_type": "code",
   "execution_count": null,
   "id": "afd86171",
   "metadata": {},
   "outputs": [],
   "source": []
  },
  {
   "cell_type": "code",
   "execution_count": null,
   "id": "03b1c77c",
   "metadata": {},
   "outputs": [],
   "source": []
  },
  {
   "cell_type": "code",
   "execution_count": null,
   "id": "10588afe",
   "metadata": {},
   "outputs": [],
   "source": []
  },
  {
   "cell_type": "code",
   "execution_count": null,
   "id": "e0a25f8b",
   "metadata": {},
   "outputs": [],
   "source": []
  },
  {
   "cell_type": "code",
   "execution_count": null,
   "id": "985a729e",
   "metadata": {},
   "outputs": [],
   "source": []
  },
  {
   "cell_type": "code",
   "execution_count": null,
   "id": "70276a1d",
   "metadata": {},
   "outputs": [],
   "source": []
  }
 ],
 "metadata": {
  "kernelspec": {
   "display_name": ".venv",
   "language": "python",
   "name": "python3"
  },
  "language_info": {
   "codemirror_mode": {
    "name": "ipython",
    "version": 3
   },
   "file_extension": ".py",
   "mimetype": "text/x-python",
   "name": "python",
   "nbconvert_exporter": "python",
   "pygments_lexer": "ipython3",
   "version": "3.12.2"
  }
 },
 "nbformat": 4,
 "nbformat_minor": 5
}
