{
 "cells": [
  {
   "cell_type": "code",
   "execution_count": null,
   "id": "00551605",
   "metadata": {},
   "outputs": [],
   "source": [
    "### Python logging :\n",
    "# Logging is a crucial aspect of any application providing a way to track events errors and operational information python's built in logging module offers a flexible framework for emitting log messages from the python program "
   ]
  },
  {
   "cell_type": "code",
   "execution_count": null,
   "id": "8c21a2ae",
   "metadata": {},
   "outputs": [],
   "source": []
  },
  {
   "cell_type": "code",
   "execution_count": 7,
   "id": "d771e55c",
   "metadata": {},
   "outputs": [
    {
     "name": "stderr",
     "output_type": "stream",
     "text": [
      "DEBUG:root:this is a debug message\n",
      "INFO:root:this is an info message\n",
      "ERROR:root:This is an error message\n",
      "WARNING:root:this is a warning message\n",
      "CRITICAL:root:this is a critical message\n"
     ]
    }
   ],
   "source": [
    "import logging\n",
    "\n",
    "logging.basicConfig(level=logging.DEBUG, force=True)\n",
    "\n",
    "logging.debug(\"this is a debug message\")\n",
    "logging.info(\"this is an info message\")\n",
    "logging.error(\"This is an error message\")\n",
    "logging.warning(\"this is a warning message\")\n",
    "logging.critical(\"this is a critical message\")\n"
   ]
  },
  {
   "cell_type": "code",
   "execution_count": null,
   "id": "bc39c49a",
   "metadata": {},
   "outputs": [],
   "source": [
    "### python logging module have several log levels indicating the severity of events the default levels are :\n",
    "# debug - detailed information typically of interst only when diagnosed problems\n",
    "# info - confirmation that the things are working as expected n\n",
    "# warning - an indication that something unexpected happened or indicative of some problem in near future\n",
    "# error - due to more serious problem the software has not been able to perfrom some function\n",
    "# critical - a very serious error indicating that the program itself may be unable to continue running"
   ]
  },
  {
   "cell_type": "code",
   "execution_count": 14,
   "id": "3a1cd677",
   "metadata": {},
   "outputs": [],
   "source": [
    "### configuring logging \n",
    "logging.basicConfig(\n",
    "    filename=('app.log'),\n",
    "    filemode=('w'),\n",
    "    level=logging.DEBUG,\n",
    "    format='%(asctime)s-%(name)s-%(levelname)s-%(message)s',\n",
    "    datefmt='%Y-%m-%D %H:%M:%S',\n",
    "    force=True\n",
    ")\n",
    "\n",
    "\n",
    "logging.debug(\"this is a debug message\")\n",
    "logging.info(\"this is an info message\")\n",
    "logging.error(\"This is an error message\")\n",
    "logging.warning(\"this is a warning message\")\n",
    "logging.critical(\"this is a critical message\")\n"
   ]
  },
  {
   "cell_type": "code",
   "execution_count": 16,
   "id": "c529b9d0",
   "metadata": {},
   "outputs": [],
   "source": [
    "# logging with multiple loggers"
   ]
  },
  {
   "cell_type": "code",
   "execution_count": 1,
   "id": "e168d74b",
   "metadata": {},
   "outputs": [],
   "source": [
    "import logging \n",
    "# create logger for module 1 \n",
    "logger1=logging.getLogger(\"module1\")\n",
    "logger1.setLevel(logging.DEBUG)\n",
    "\n",
    "# create logger for module 2\n",
    "logger2 = logging.getLogger(\"module2\")\n",
    "logger2.setLevel(logging.WARNING)\n",
    "\n",
    "#configure logging setting \n",
    "logging.basicConfig( \n",
    "    level = logging.DEBUG,\n",
    "    format = '%(asctime)s -  %(name)s - %(levelname)s - %(message)s',\n",
    "    datefmt='%Y-%M-%S %H-%M-%S',\n",
    "    force=True\n",
    ")"
   ]
  },
  {
   "cell_type": "code",
   "execution_count": 2,
   "id": "1cd88dbd",
   "metadata": {},
   "outputs": [
    {
     "name": "stderr",
     "output_type": "stream",
     "text": [
      "2025-38-31 11-38-31 -  module1 - DEBUG - This is a debug message for module 1\n",
      "2025-38-31 11-38-31 -  module2 - WARNING - This is a warning message for module2\n",
      "2025-38-31 11-38-31 -  module2 - ERROR - this is a error message\n"
     ]
    }
   ],
   "source": [
    "#log messages with different loggers\n",
    "logger1.debug(\"This is a debug message for module 1\")\n",
    "logger2.warning(\"This is a warning message for module2\")  \n",
    "logger2.error(\"this is a error message\")"
   ]
  },
  {
   "cell_type": "code",
   "execution_count": null,
   "id": "278ea081",
   "metadata": {},
   "outputs": [],
   "source": []
  },
  {
   "cell_type": "code",
   "execution_count": null,
   "id": "688d72cc",
   "metadata": {},
   "outputs": [],
   "source": []
  },
  {
   "cell_type": "code",
   "execution_count": null,
   "id": "688f39b3",
   "metadata": {},
   "outputs": [],
   "source": []
  },
  {
   "cell_type": "code",
   "execution_count": null,
   "id": "7e792b84",
   "metadata": {},
   "outputs": [],
   "source": []
  },
  {
   "cell_type": "code",
   "execution_count": null,
   "id": "471eadf4",
   "metadata": {},
   "outputs": [],
   "source": []
  },
  {
   "cell_type": "code",
   "execution_count": null,
   "id": "3a844e1f",
   "metadata": {},
   "outputs": [],
   "source": []
  },
  {
   "cell_type": "code",
   "execution_count": null,
   "id": "e34ba372",
   "metadata": {},
   "outputs": [],
   "source": []
  },
  {
   "cell_type": "code",
   "execution_count": null,
   "id": "58d22a3f",
   "metadata": {},
   "outputs": [],
   "source": []
  },
  {
   "cell_type": "code",
   "execution_count": null,
   "id": "ae248b78",
   "metadata": {},
   "outputs": [],
   "source": []
  },
  {
   "cell_type": "code",
   "execution_count": null,
   "id": "e1ae7e4d",
   "metadata": {},
   "outputs": [],
   "source": []
  }
 ],
 "metadata": {
  "kernelspec": {
   "display_name": ".venv",
   "language": "python",
   "name": "python3"
  },
  "language_info": {
   "codemirror_mode": {
    "name": "ipython",
    "version": 3
   },
   "file_extension": ".py",
   "mimetype": "text/x-python",
   "name": "python",
   "nbconvert_exporter": "python",
   "pygments_lexer": "ipython3",
   "version": "3.12.2"
  }
 },
 "nbformat": 4,
 "nbformat_minor": 5
}
