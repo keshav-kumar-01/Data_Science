{
 "cells": [
  {
   "cell_type": "code",
   "execution_count": 5,
   "id": "47270038",
   "metadata": {},
   "outputs": [
    {
     "name": "stdout",
     "output_type": "stream",
     "text": [
      "lorem ipsum \n",
      "keshav kumar \n",
      "yo \n",
      "hello world\n",
      "\n"
     ]
    }
   ],
   "source": [
    "## read and write file\n",
    "with open('example.txt','r') as file:\n",
    "    content = file.read()\n",
    "    print(content)"
   ]
  },
  {
   "cell_type": "code",
   "execution_count": 9,
   "id": "1b1a4f13",
   "metadata": {},
   "outputs": [
    {
     "name": "stdout",
     "output_type": "stream",
     "text": [
      "lorem ipsum\n",
      "keshav kumar\n",
      "yo\n",
      "hello world\n"
     ]
    }
   ],
   "source": [
    "##line by line reading \n",
    "with open('example.txt','r') as file :\n",
    "    for line in file:\n",
    "        print(line.strip())"
   ]
  },
  {
   "cell_type": "code",
   "execution_count": 11,
   "id": "3683ea09",
   "metadata": {},
   "outputs": [],
   "source": [
    "## writing a file\n",
    "with open('example.txt','w') as file :\n",
    "    file.write('Hello bhai \\n')\n",
    "    file.write('new line')"
   ]
  },
  {
   "cell_type": "code",
   "execution_count": 25,
   "id": "f97e8e7e",
   "metadata": {},
   "outputs": [],
   "source": [
    "## write a file without overwriting \n",
    "with open('example.txt','a')as file :\n",
    "    file.write('\\nThis is a new line added to the file.')"
   ]
  },
  {
   "cell_type": "code",
   "execution_count": 27,
   "id": "1e9ba22e",
   "metadata": {},
   "outputs": [],
   "source": [
    "## writing a list of lines\n",
    "lines=['\\nfirst line\\n',\n",
    "        'second line\\n',\n",
    "        'third line\\n']\n",
    "with open('example.txt','a') as file :\n",
    "    file.writelines(lines)"
   ]
  },
  {
   "cell_type": "code",
   "execution_count": 28,
   "id": "afa0f8ce",
   "metadata": {},
   "outputs": [],
   "source": [
    "### binary files \n",
    "data = b'\\x00\\x01\\x02\\x03\\x04\\x05\\x06\\x07\\x08\\x09'\n",
    "with open('binaryfile.bin', 'wb') as file:\n",
    "    file.write(data)"
   ]
  },
  {
   "cell_type": "code",
   "execution_count": 31,
   "id": "2108c74f",
   "metadata": {},
   "outputs": [],
   "source": [
    "#read a contents from a file and write to destination file\n",
    "with open('example.txt','r')as file :\n",
    "    content=file.read()\n",
    "with open('destination.txt','w') as dest_file:\n",
    "    dest_file.write(content)"
   ]
  },
  {
   "cell_type": "code",
   "execution_count": 1,
   "id": "b5d01049",
   "metadata": {},
   "outputs": [
    {
     "name": "stdout",
     "output_type": "stream",
     "text": [
      "Line : 12, Word :9, Char : 12\n"
     ]
    }
   ],
   "source": [
    "### count the numbers of lines, words and characters in a file\n",
    "def count_file_line(file_path):\n",
    "    with open(file_path,'r')as file:\n",
    "        lines=file.readline()\n",
    "        line_count = len(lines)\n",
    "        word_count = sum(len(line.split())for line in lines)\n",
    "        char_count = sum(len(line)for line in lines)\n",
    "    return line_count ,word_count ,char_count\n",
    "\n",
    "file_path = 'example.txt'\n",
    "line_count , word_count , char_count = count_file_line(file_path)\n",
    "print(f'Line : {line_count}, Word :{word_count}, Char : {char_count}')\n",
    "\n"
   ]
  },
  {
   "cell_type": "code",
   "execution_count": 2,
   "id": "b255a2e5",
   "metadata": {},
   "outputs": [
    {
     "name": "stdout",
     "output_type": "stream",
     "text": [
      "d:\\Data_Science\n"
     ]
    }
   ],
   "source": [
    "## working directories \n",
    "import os \n",
    "cwd = os.getcwd()\n",
    "print(cwd)"
   ]
  },
  {
   "cell_type": "code",
   "execution_count": 3,
   "id": "aef15bf5",
   "metadata": {},
   "outputs": [
    {
     "name": "stdout",
     "output_type": "stream",
     "text": [
      "keshav\n"
     ]
    }
   ],
   "source": [
    "##create a new directory \n",
    "new_directory = \"keshav\"\n",
    "os.mkdir(new_directory)\n",
    "print(new_directory)"
   ]
  },
  {
   "cell_type": "code",
   "execution_count": 4,
   "id": "c5cfa653",
   "metadata": {},
   "outputs": [
    {
     "name": "stdout",
     "output_type": "stream",
     "text": [
      "['.venv', '5.ipynb', '8.ipynb', '9.ipynb', 'advancefunctions', 'advancefunctions.zip', 'binaryfile.bin', 'destination.txt', 'example.bin', 'example.txt', 'keshav', 'package']\n"
     ]
    }
   ],
   "source": [
    "##list the dir\n",
    "items = os.listdir('.')\n",
    "print(items)"
   ]
  },
  {
   "cell_type": "code",
   "execution_count": 5,
   "id": "bc62fc72",
   "metadata": {},
   "outputs": [
    {
     "name": "stdout",
     "output_type": "stream",
     "text": [
      "hello\\hello.txt\n"
     ]
    }
   ],
   "source": [
    "### joining paths\n",
    "dir_name = \"hello\"\n",
    "file_name = \"hello.txt\"\n",
    "full_path = os.path.join(dir_name,file_name)\n",
    "print(full_path)"
   ]
  },
  {
   "cell_type": "code",
   "execution_count": 6,
   "id": "bdce4eb0",
   "metadata": {},
   "outputs": [
    {
     "name": "stdout",
     "output_type": "stream",
     "text": [
      "d:\\Data_Science\\hello\\hello.txt\n"
     ]
    }
   ],
   "source": [
    "### joining paths\n",
    "dir_name = \"hello\"\n",
    "file_name = \"hello.txt\"\n",
    "full_path = os.path.join(os.getcwd(),dir_name,file_name)\n",
    "print(full_path)"
   ]
  },
  {
   "cell_type": "code",
   "execution_count": null,
   "id": "5e580221",
   "metadata": {},
   "outputs": [
    {
     "name": "stdout",
     "output_type": "stream",
     "text": [
      "path does not exist\n"
     ]
    }
   ],
   "source": [
    "path='example1.txt'\n",
    "if os.path.exists(path):\n",
    "    print('this exist')\n",
    "else:\n",
    "    print('path does not exist')"
   ]
  },
  {
   "cell_type": "code",
   "execution_count": 10,
   "id": "cb14edfc",
   "metadata": {},
   "outputs": [
    {
     "name": "stdout",
     "output_type": "stream",
     "text": [
      "File\n"
     ]
    }
   ],
   "source": [
    "## checking the path is file or directory\n",
    "path = 'example.txt'\n",
    "if os.path.isfile(path):\n",
    "    print('File')\n",
    "elif os.path.isdir(path):\n",
    "    print('Dir')\n",
    "else:\n",
    "    print('no file no dir' )"
   ]
  },
  {
   "cell_type": "code",
   "execution_count": 12,
   "id": "751b1b53",
   "metadata": {},
   "outputs": [
    {
     "name": "stdout",
     "output_type": "stream",
     "text": [
      "d:\\Data_Science\\example.txt\n"
     ]
    }
   ],
   "source": [
    "## getting a absolute path\n",
    "relative_path = 'example.txt'\n",
    "absolute_path = os.path.abspath(relative_path)\n",
    "print(absolute_path)"
   ]
  },
  {
   "cell_type": "code",
   "execution_count": null,
   "id": "1ebb1769",
   "metadata": {},
   "outputs": [],
   "source": []
  },
  {
   "cell_type": "code",
   "execution_count": null,
   "id": "bb58c0f9",
   "metadata": {},
   "outputs": [],
   "source": []
  },
  {
   "cell_type": "code",
   "execution_count": null,
   "id": "17eef09e",
   "metadata": {},
   "outputs": [],
   "source": []
  }
 ],
 "metadata": {
  "kernelspec": {
   "display_name": ".venv",
   "language": "python",
   "name": "python3"
  },
  "language_info": {
   "codemirror_mode": {
    "name": "ipython",
    "version": 3
   },
   "file_extension": ".py",
   "mimetype": "text/x-python",
   "name": "python",
   "nbconvert_exporter": "python",
   "pygments_lexer": "ipython3",
   "version": "3.12.2"
  }
 },
 "nbformat": 4,
 "nbformat_minor": 5
}
