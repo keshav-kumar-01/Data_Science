{
 "cells": [
  {
   "cell_type": "code",
   "execution_count": null,
   "id": "8cb4b093",
   "metadata": {},
   "outputs": [],
   "source": [
    "# SQL and SQL lite \n",
    "# SQL ( structured query language ) is a standard language for managing and manipulating relational databases . \n",
    "# SQLite is a self - contained serverless and zero configuration databse engine that is widely used for emedded databse systems ."
   ]
  },
  {
   "cell_type": "code",
   "execution_count": 1,
   "id": "398c3b55",
   "metadata": {},
   "outputs": [],
   "source": [
    "import sqlite3"
   ]
  },
  {
   "cell_type": "code",
   "execution_count": 2,
   "id": "88d6000e",
   "metadata": {},
   "outputs": [
    {
     "data": {
      "text/plain": [
       "<sqlite3.Connection at 0x2265941a5c0>"
      ]
     },
     "execution_count": 2,
     "metadata": {},
     "output_type": "execute_result"
    }
   ],
   "source": [
    "## connect to an SQLite databse\n",
    "connection = sqlite3.connect('example.db')\n",
    "connection "
   ]
  },
  {
   "cell_type": "code",
   "execution_count": 3,
   "id": "c18d5d38",
   "metadata": {},
   "outputs": [],
   "source": [
    "cursor = connection.cursor()"
   ]
  },
  {
   "cell_type": "code",
   "execution_count": 5,
   "id": "4c0ec392",
   "metadata": {},
   "outputs": [],
   "source": [
    "### create a table \n",
    "cursor.execute(''' \n",
    "Create Table IF Not Exists employee(\n",
    "               id Integer Primary Key,\n",
    "               name Text Not Null,\n",
    "               age Integer,\n",
    "               department text               \n",
    "               )\n",
    "''')\n",
    "\n",
    "### commit the changes \n",
    "connection.commit()"
   ]
  },
  {
   "cell_type": "code",
   "execution_count": 6,
   "id": "4744ea59",
   "metadata": {},
   "outputs": [
    {
     "data": {
      "text/plain": [
       "<sqlite3.Cursor at 0x22659623f40>"
      ]
     },
     "execution_count": 6,
     "metadata": {},
     "output_type": "execute_result"
    }
   ],
   "source": [
    "cursor.execute(''' \n",
    "Select * From employee\n",
    "''')\n"
   ]
  },
  {
   "cell_type": "code",
   "execution_count": 10,
   "id": "08cc919d",
   "metadata": {},
   "outputs": [
    {
     "data": {
      "text/plain": [
       "<sqlite3.Cursor at 0x22659623f40>"
      ]
     },
     "execution_count": 10,
     "metadata": {},
     "output_type": "execute_result"
    }
   ],
   "source": [
    "## Insert the data in sqlite 3\n",
    "cursor.execute('''\n",
    "Insert Into employee(name,age,department)\n",
    "               values('keshav' , 20 , 'Data science')\n",
    "''')"
   ]
  },
  {
   "cell_type": "code",
   "execution_count": 11,
   "id": "b145c654",
   "metadata": {},
   "outputs": [
    {
     "data": {
      "text/plain": [
       "<sqlite3.Cursor at 0x22659623f40>"
      ]
     },
     "execution_count": 11,
     "metadata": {},
     "output_type": "execute_result"
    }
   ],
   "source": [
    "cursor.execute('''\n",
    "Insert Into employee(name,age,department)\n",
    "               values('anchal' , 20 , 'finance')\n",
    "''')"
   ]
  },
  {
   "cell_type": "code",
   "execution_count": 12,
   "id": "c3116b2c",
   "metadata": {},
   "outputs": [
    {
     "data": {
      "text/plain": [
       "<sqlite3.Cursor at 0x22659623f40>"
      ]
     },
     "execution_count": 12,
     "metadata": {},
     "output_type": "execute_result"
    }
   ],
   "source": [
    "cursor.execute('''\n",
    "Insert Into employee(name,age,department)\n",
    "               values('rohit' , 21 , 'advisor')\n",
    "''')"
   ]
  },
  {
   "cell_type": "code",
   "execution_count": 13,
   "id": "190b7e7a",
   "metadata": {},
   "outputs": [],
   "source": [
    "connection.commit()"
   ]
  },
  {
   "cell_type": "code",
   "execution_count": 14,
   "id": "191b9b97",
   "metadata": {},
   "outputs": [
    {
     "name": "stdout",
     "output_type": "stream",
     "text": [
      "(1, 'keshav', 20, 'Data science')\n",
      "(2, 'anchal', 20, 'finance')\n",
      "(3, 'rohit', 21, 'advisor')\n"
     ]
    }
   ],
   "source": [
    "### quering any data from SQLite3\n",
    "cursor.execute('''\n",
    "Select * From employee\n",
    "''')\n",
    "rows = cursor.fetchall()\n",
    "\n",
    "#print the querreed data\n",
    "for row in rows : \n",
    "    print(row)"
   ]
  },
  {
   "cell_type": "code",
   "execution_count": 15,
   "id": "1e697dc2",
   "metadata": {},
   "outputs": [
    {
     "data": {
      "text/plain": [
       "<sqlite3.Cursor at 0x22659623f40>"
      ]
     },
     "execution_count": 15,
     "metadata": {},
     "output_type": "execute_result"
    }
   ],
   "source": [
    "#update the data in the table \n",
    "cursor.execute('''\n",
    "Update employee\n",
    "Set age = 21\n",
    "Where name = 'keshav'\n",
    "''')"
   ]
  },
  {
   "cell_type": "code",
   "execution_count": 16,
   "id": "87739a5a",
   "metadata": {},
   "outputs": [],
   "source": [
    "connection.commit()"
   ]
  },
  {
   "cell_type": "code",
   "execution_count": 17,
   "metadata": {},
   "outputs": [
    {
     "name": "stdout",
     "output_type": "stream",
     "text": [
      "(1, 'keshav', 21, 'Data science')\n",
      "(2, 'anchal', 20, 'finance')\n",
      "(3, 'rohit', 21, 'advisor')\n"
     ]
    }
   ],
   "source": [
    "### quering any data from SQLite3\n",
    "cursor.execute('''\n",
    "Select * From employee\n",
    "''')\n",
    "rows = cursor.fetchall()\n",
    "\n",
    "#print the querreed data\n",
    "for row in rows : \n",
    "    print(row)"
   ]
  },
  {
   "cell_type": "code",
   "execution_count": 18,
   "id": "c5f0bd57",
   "metadata": {},
   "outputs": [],
   "source": [
    "### delete the data from the table \n",
    "cursor.execute('''\n",
    "Delete from employee\n",
    "where name = 'rohit'\n",
    "''')\n",
    "\n",
    "connection.commit()"
   ]
  },
  {
   "cell_type": "code",
   "execution_count": 19,
   "id": "19db63be",
   "metadata": {},
   "outputs": [
    {
     "name": "stdout",
     "output_type": "stream",
     "text": [
      "(1, 'keshav', 21, 'Data science')\n",
      "(2, 'anchal', 20, 'finance')\n"
     ]
    }
   ],
   "source": [
    "### quering any data from SQLite3\n",
    "cursor.execute('''\n",
    "Select * From employee\n",
    "''')\n",
    "rows = cursor.fetchall()\n",
    "\n",
    "#print the querreed data\n",
    "for row in rows : \n",
    "    print(row)"
   ]
  },
  {
   "cell_type": "code",
   "execution_count": 20,
   "id": "56c0fa4b",
   "metadata": {},
   "outputs": [],
   "source": [
    "## making sales data"
   ]
  },
  {
   "cell_type": "code",
   "execution_count": 30,
   "id": "75d933a9",
   "metadata": {},
   "outputs": [
    {
     "data": {
      "text/plain": [
       "<sqlite3.Cursor at 0x22659d85240>"
      ]
     },
     "execution_count": 30,
     "metadata": {},
     "output_type": "execute_result"
    }
   ],
   "source": [
    "connection = sqlite3.connect('salesdata.db')\n",
    "cursor = connection.cursor()\n",
    "\n",
    "cursor.execute('''\n",
    "CREATE TABLE IF NOT EXISTS sales_new(\n",
    "               id INT PRIMARY KEY,\n",
    "               date TEXT NOT NULL,\n",
    "               product TEXT NOT NULL,\n",
    "               sales INT,\n",
    "               region TEXT)\n",
    "''')"
   ]
  },
  {
   "cell_type": "code",
   "execution_count": 28,
   "id": "b245c00e",
   "metadata": {},
   "outputs": [],
   "source": [
    "sales_data = [\n",
    "    ('2025-08-21','Product1',100,'India'),\n",
    "    ('2025-08-20','Product2',300,'Japan'),\n",
    "    ('2025-08-23','Product3',400,'USA'),\n",
    "    ('2025-08-21','Product4',1500,'Russia'),\n",
    "    ('2025-08-11','Product5',120,'UK'),\n",
    "    ('2025-08-01','Product6',1010,'NYC'),\n",
    "    ('2025-08-20','Product7',1002,'LN')\n",
    "]"
   ]
  },
  {
   "cell_type": "code",
   "execution_count": 31,
   "id": "8e24c6cd",
   "metadata": {},
   "outputs": [
    {
     "data": {
      "text/plain": [
       "<sqlite3.Cursor at 0x22659d85240>"
      ]
     },
     "execution_count": 31,
     "metadata": {},
     "output_type": "execute_result"
    }
   ],
   "source": [
    "cursor.executemany('''\n",
    "INSERT into sales_new(date,product,sales,region)\n",
    "                   values(?,?,?,?)\n",
    "                   ''',sales_data)"
   ]
  },
  {
   "cell_type": "code",
   "execution_count": 32,
   "id": "d99287a7",
   "metadata": {},
   "outputs": [],
   "source": [
    "connection.commit()"
   ]
  },
  {
   "cell_type": "code",
   "execution_count": 33,
   "id": "9354672c",
   "metadata": {},
   "outputs": [
    {
     "name": "stdout",
     "output_type": "stream",
     "text": [
      "(None, '2025-08-21', 'Product1', 100, 'India')\n",
      "(None, '2025-08-20', 'Product2', 300, 'Japan')\n",
      "(None, '2025-08-23', 'Product3', 400, 'USA')\n",
      "(None, '2025-08-21', 'Product4', 1500, 'Russia')\n",
      "(None, '2025-08-11', 'Product5', 120, 'UK')\n",
      "(None, '2025-08-01', 'Product6', 1010, 'NYC')\n",
      "(None, '2025-08-20', 'Product7', 1002, 'LN')\n"
     ]
    }
   ],
   "source": [
    "cursor.execute('SELECT * FROM sales_new')\n",
    "rows=cursor.fetchall()\n",
    "for row in rows :\n",
    "    print(row)"
   ]
  },
  {
   "cell_type": "code",
   "execution_count": 34,
   "id": "90bc5543",
   "metadata": {},
   "outputs": [],
   "source": [
    "connection.close()"
   ]
  }
 ],
 "metadata": {
  "kernelspec": {
   "display_name": ".venv",
   "language": "python",
   "name": "python3"
  },
  "language_info": {
   "codemirror_mode": {
    "name": "ipython",
    "version": 3
   },
   "file_extension": ".py",
   "mimetype": "text/x-python",
   "name": "python",
   "nbconvert_exporter": "python",
   "pygments_lexer": "ipython3",
   "version": "3.12.2"
  }
 },
 "nbformat": 4,
 "nbformat_minor": 5
}
